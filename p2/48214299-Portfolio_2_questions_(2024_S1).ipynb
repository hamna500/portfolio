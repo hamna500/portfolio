{
 "cells": [
  {
   "cell_type": "markdown",
   "id": "Z88FfJc9lA_T",
   "metadata": {
    "id": "Z88FfJc9lA_T"
   },
   "source": [
    "## Analysis of an E-commerce Dataset Part 2"
   ]
  },
  {
   "cell_type": "markdown",
   "id": "hoq0NwA9lA_V",
   "metadata": {
    "id": "hoq0NwA9lA_V"
   },
   "source": [
    "The goal of the second analysis task is to train linear regression models to predict users' ratings towards items. This involves a standard Data Science workflow: exploring data, building models, making predictions, and evaluating results. In this task, we will explore the impacts of feature selections and different sizes of training/testing data on the model performance. We will use another cleaned combined e-commerce sub-dataset that **is different from** the one in “Analysis of an E-commerce Dataset” task 1."
   ]
  },
  {
   "cell_type": "markdown",
   "id": "f9fd3NU_lA_W",
   "metadata": {
    "id": "f9fd3NU_lA_W"
   },
   "source": [
    "### Import Cleaned E-commerce Dataset\n",
    "The csv file named 'cleaned_ecommerce_dataset.csv' is provided. You may need to use the Pandas method, i.e., `read_csv`, for reading it. After that, please print out its total length."
   ]
  },
  {
   "cell_type": "code",
   "execution_count": 1,
   "id": "PJrb2gtAlA_W",
   "metadata": {
    "id": "PJrb2gtAlA_W",
    "tags": []
   },
   "outputs": [],
   "source": [
    "#importing libraries\n",
    "import numpy as np\n",
    "import pandas as pd\n",
    "import matplotlib.pyplot as plt\n",
    "%matplotlib inline\n",
    "import seaborn as sns\n",
    "\n",
    "from sklearn.model_selection import train_test_split\n",
    "from sklearn import linear_model\n",
    "from sklearn.metrics import r2_score\n"
   ]
  },
  {
   "cell_type": "code",
   "execution_count": 2,
   "id": "9ae8aa46-c668-42b1-9131-cce4d2c9a1dd",
   "metadata": {
    "tags": []
   },
   "outputs": [
    {
     "name": "stdout",
     "output_type": "stream",
     "text": [
      "The length of the dataset is: 2685\n"
     ]
    }
   ],
   "source": [
    "# your code and solutions\n",
    "# Read the CSV file into a DataFrame\n",
    "data = pd.read_csv('cleaned_ecommerce_dataset.csv')\n",
    "print(\"The length of the dataset is:\" , len (data))"
   ]
  },
  {
   "cell_type": "markdown",
   "id": "aqbuU6rglA_X",
   "metadata": {
    "id": "aqbuU6rglA_X"
   },
   "source": [
    "### Explore the Dataset\n",
    "\n",
    "* Use the methods, i.e., `head()` and `info()`, to have a rough picture about the data, e.g., how many columns, and the data types of each column.\n",
    "* As our goal is to predict ratings given other columns, please get the correlations between helpfulness/gender/category/review and rating by using the `corr()` method.\n",
    "\n",
    "  Hints: To get the correlations between different features, you may need to first convert the categorical features (i.e., gender, category and review) into numerial values. For doing this, you may need to import `OrdinalEncoder` from `sklearn.preprocessing` (refer to the useful exmaples [here](https://pbpython.com/categorical-encoding.html))\n",
    "* Please provide ___necessary explanations/analysis___ on the correlations, and figure out which are the ___most___ and ___least___ corrleated features regarding rating. Try to ___discuss___ how the correlation will affect the final prediction results, if we use these features to train a regression model for rating prediction. In what follows, we will conduct experiments to verify your hypothesis."
   ]
  },
  {
   "cell_type": "code",
   "execution_count": 3,
   "id": "W3PImHiElA_X",
   "metadata": {
    "id": "W3PImHiElA_X",
    "tags": []
   },
   "outputs": [
    {
     "data": {
      "text/html": [
       "<div>\n",
       "<style scoped>\n",
       "    .dataframe tbody tr th:only-of-type {\n",
       "        vertical-align: middle;\n",
       "    }\n",
       "\n",
       "    .dataframe tbody tr th {\n",
       "        vertical-align: top;\n",
       "    }\n",
       "\n",
       "    .dataframe thead th {\n",
       "        text-align: right;\n",
       "    }\n",
       "</style>\n",
       "<table border=\"1\" class=\"dataframe\">\n",
       "  <thead>\n",
       "    <tr style=\"text-align: right;\">\n",
       "      <th></th>\n",
       "      <th>userId</th>\n",
       "      <th>timestamp</th>\n",
       "      <th>review</th>\n",
       "      <th>item</th>\n",
       "      <th>rating</th>\n",
       "      <th>helpfulness</th>\n",
       "      <th>gender</th>\n",
       "      <th>category</th>\n",
       "      <th>item_id</th>\n",
       "      <th>item_price</th>\n",
       "      <th>user_city</th>\n",
       "    </tr>\n",
       "  </thead>\n",
       "  <tbody>\n",
       "    <tr>\n",
       "      <th>0</th>\n",
       "      <td>4081</td>\n",
       "      <td>71900</td>\n",
       "      <td>Not always McCrap</td>\n",
       "      <td>McDonald's</td>\n",
       "      <td>4.0</td>\n",
       "      <td>3.0</td>\n",
       "      <td>M</td>\n",
       "      <td>Restaurants &amp; Gourmet</td>\n",
       "      <td>41</td>\n",
       "      <td>30.74</td>\n",
       "      <td>4</td>\n",
       "    </tr>\n",
       "    <tr>\n",
       "      <th>1</th>\n",
       "      <td>4081</td>\n",
       "      <td>72000</td>\n",
       "      <td>I dropped the chalupa even before he told me to</td>\n",
       "      <td>Taco Bell</td>\n",
       "      <td>1.0</td>\n",
       "      <td>4.0</td>\n",
       "      <td>M</td>\n",
       "      <td>Restaurants &amp; Gourmet</td>\n",
       "      <td>74</td>\n",
       "      <td>108.30</td>\n",
       "      <td>4</td>\n",
       "    </tr>\n",
       "    <tr>\n",
       "      <th>2</th>\n",
       "      <td>4081</td>\n",
       "      <td>72000</td>\n",
       "      <td>The Wonderful World of Wendy</td>\n",
       "      <td>Wendy's</td>\n",
       "      <td>5.0</td>\n",
       "      <td>4.0</td>\n",
       "      <td>M</td>\n",
       "      <td>Restaurants &amp; Gourmet</td>\n",
       "      <td>84</td>\n",
       "      <td>69.00</td>\n",
       "      <td>4</td>\n",
       "    </tr>\n",
       "    <tr>\n",
       "      <th>3</th>\n",
       "      <td>4081</td>\n",
       "      <td>100399</td>\n",
       "      <td>They actually did it</td>\n",
       "      <td>South Park: Bigger, Longer &amp; Uncut</td>\n",
       "      <td>5.0</td>\n",
       "      <td>3.0</td>\n",
       "      <td>M</td>\n",
       "      <td>Movies</td>\n",
       "      <td>68</td>\n",
       "      <td>143.11</td>\n",
       "      <td>4</td>\n",
       "    </tr>\n",
       "    <tr>\n",
       "      <th>4</th>\n",
       "      <td>4081</td>\n",
       "      <td>100399</td>\n",
       "      <td>Hey! Gimme some pie!</td>\n",
       "      <td>American Pie</td>\n",
       "      <td>3.0</td>\n",
       "      <td>3.0</td>\n",
       "      <td>M</td>\n",
       "      <td>Movies</td>\n",
       "      <td>6</td>\n",
       "      <td>117.89</td>\n",
       "      <td>4</td>\n",
       "    </tr>\n",
       "  </tbody>\n",
       "</table>\n",
       "</div>"
      ],
      "text/plain": [
       "   userId  timestamp                                           review  \\\n",
       "0    4081      71900                                Not always McCrap   \n",
       "1    4081      72000  I dropped the chalupa even before he told me to   \n",
       "2    4081      72000                     The Wonderful World of Wendy   \n",
       "3    4081     100399                             They actually did it   \n",
       "4    4081     100399                             Hey! Gimme some pie!   \n",
       "\n",
       "                                 item  rating  helpfulness gender  \\\n",
       "0                          McDonald's     4.0          3.0      M   \n",
       "1                           Taco Bell     1.0          4.0      M   \n",
       "2                             Wendy's     5.0          4.0      M   \n",
       "3  South Park: Bigger, Longer & Uncut     5.0          3.0      M   \n",
       "4                        American Pie     3.0          3.0      M   \n",
       "\n",
       "                category  item_id  item_price  user_city  \n",
       "0  Restaurants & Gourmet       41       30.74          4  \n",
       "1  Restaurants & Gourmet       74      108.30          4  \n",
       "2  Restaurants & Gourmet       84       69.00          4  \n",
       "3                 Movies       68      143.11          4  \n",
       "4                 Movies        6      117.89          4  "
      ]
     },
     "execution_count": 3,
     "metadata": {},
     "output_type": "execute_result"
    }
   ],
   "source": [
    "#using Head Function to see have an idea about the data\n",
    "data.head()"
   ]
  },
  {
   "cell_type": "code",
   "execution_count": 4,
   "id": "2e344792-8042-4748-baeb-391273bbbe77",
   "metadata": {
    "tags": []
   },
   "outputs": [
    {
     "name": "stdout",
     "output_type": "stream",
     "text": [
      "<class 'pandas.core.frame.DataFrame'>\n",
      "RangeIndex: 2685 entries, 0 to 2684\n",
      "Data columns (total 11 columns):\n",
      " #   Column       Non-Null Count  Dtype  \n",
      "---  ------       --------------  -----  \n",
      " 0   userId       2685 non-null   int64  \n",
      " 1   timestamp    2685 non-null   int64  \n",
      " 2   review       2685 non-null   object \n",
      " 3   item         2685 non-null   object \n",
      " 4   rating       2685 non-null   float64\n",
      " 5   helpfulness  2685 non-null   float64\n",
      " 6   gender       2685 non-null   object \n",
      " 7   category     2685 non-null   object \n",
      " 8   item_id      2685 non-null   int64  \n",
      " 9   item_price   2685 non-null   float64\n",
      " 10  user_city    2685 non-null   int64  \n",
      "dtypes: float64(3), int64(4), object(4)\n",
      "memory usage: 230.9+ KB\n"
     ]
    }
   ],
   "source": [
    "#using info Function to see the what kind of data\n",
    "data.info() "
   ]
  },
  {
   "cell_type": "code",
   "execution_count": 5,
   "id": "64b95a56",
   "metadata": {},
   "outputs": [],
   "source": [
    "# Using OrdinalEncoder for Categorical Encoding\n",
    "from sklearn.preprocessing import OrdinalEncoder\n",
    "# Creating an instance of OrdinalEncoder\n",
    "ordinal_encoder= OrdinalEncoder()\n",
    "# Encoding the 'gender', 'category', and 'review' columns using OrdinalEncoder\n",
    "data['gender']=  ordinal_encoder.fit_transform(data[['gender']])\n",
    "data['category']=  ordinal_encoder.fit_transform(data[['category']])\n",
    "data['review']=  ordinal_encoder.fit_transform(data[['review']])"
   ]
  },
  {
   "cell_type": "code",
   "execution_count": 6,
   "id": "41f79c0d",
   "metadata": {},
   "outputs": [
    {
     "data": {
      "text/html": [
       "<div>\n",
       "<style scoped>\n",
       "    .dataframe tbody tr th:only-of-type {\n",
       "        vertical-align: middle;\n",
       "    }\n",
       "\n",
       "    .dataframe tbody tr th {\n",
       "        vertical-align: top;\n",
       "    }\n",
       "\n",
       "    .dataframe thead th {\n",
       "        text-align: right;\n",
       "    }\n",
       "</style>\n",
       "<table border=\"1\" class=\"dataframe\">\n",
       "  <thead>\n",
       "    <tr style=\"text-align: right;\">\n",
       "      <th></th>\n",
       "      <th>userId</th>\n",
       "      <th>timestamp</th>\n",
       "      <th>review</th>\n",
       "      <th>item</th>\n",
       "      <th>rating</th>\n",
       "      <th>helpfulness</th>\n",
       "      <th>gender</th>\n",
       "      <th>category</th>\n",
       "      <th>item_id</th>\n",
       "      <th>item_price</th>\n",
       "      <th>user_city</th>\n",
       "    </tr>\n",
       "  </thead>\n",
       "  <tbody>\n",
       "    <tr>\n",
       "      <th>0</th>\n",
       "      <td>4081</td>\n",
       "      <td>71900</td>\n",
       "      <td>1618.0</td>\n",
       "      <td>McDonald's</td>\n",
       "      <td>4.0</td>\n",
       "      <td>3.0</td>\n",
       "      <td>1.0</td>\n",
       "      <td>8.0</td>\n",
       "      <td>41</td>\n",
       "      <td>30.74</td>\n",
       "      <td>4</td>\n",
       "    </tr>\n",
       "    <tr>\n",
       "      <th>1</th>\n",
       "      <td>4081</td>\n",
       "      <td>72000</td>\n",
       "      <td>1125.0</td>\n",
       "      <td>Taco Bell</td>\n",
       "      <td>1.0</td>\n",
       "      <td>4.0</td>\n",
       "      <td>1.0</td>\n",
       "      <td>8.0</td>\n",
       "      <td>74</td>\n",
       "      <td>108.30</td>\n",
       "      <td>4</td>\n",
       "    </tr>\n",
       "    <tr>\n",
       "      <th>2</th>\n",
       "      <td>4081</td>\n",
       "      <td>72000</td>\n",
       "      <td>2185.0</td>\n",
       "      <td>Wendy's</td>\n",
       "      <td>5.0</td>\n",
       "      <td>4.0</td>\n",
       "      <td>1.0</td>\n",
       "      <td>8.0</td>\n",
       "      <td>84</td>\n",
       "      <td>69.00</td>\n",
       "      <td>4</td>\n",
       "    </tr>\n",
       "    <tr>\n",
       "      <th>3</th>\n",
       "      <td>4081</td>\n",
       "      <td>100399</td>\n",
       "      <td>2243.0</td>\n",
       "      <td>South Park: Bigger, Longer &amp; Uncut</td>\n",
       "      <td>5.0</td>\n",
       "      <td>3.0</td>\n",
       "      <td>1.0</td>\n",
       "      <td>5.0</td>\n",
       "      <td>68</td>\n",
       "      <td>143.11</td>\n",
       "      <td>4</td>\n",
       "    </tr>\n",
       "    <tr>\n",
       "      <th>4</th>\n",
       "      <td>4081</td>\n",
       "      <td>100399</td>\n",
       "      <td>1033.0</td>\n",
       "      <td>American Pie</td>\n",
       "      <td>3.0</td>\n",
       "      <td>3.0</td>\n",
       "      <td>1.0</td>\n",
       "      <td>5.0</td>\n",
       "      <td>6</td>\n",
       "      <td>117.89</td>\n",
       "      <td>4</td>\n",
       "    </tr>\n",
       "  </tbody>\n",
       "</table>\n",
       "</div>"
      ],
      "text/plain": [
       "   userId  timestamp  review                                item  rating  \\\n",
       "0    4081      71900  1618.0                          McDonald's     4.0   \n",
       "1    4081      72000  1125.0                           Taco Bell     1.0   \n",
       "2    4081      72000  2185.0                             Wendy's     5.0   \n",
       "3    4081     100399  2243.0  South Park: Bigger, Longer & Uncut     5.0   \n",
       "4    4081     100399  1033.0                        American Pie     3.0   \n",
       "\n",
       "   helpfulness  gender  category  item_id  item_price  user_city  \n",
       "0          3.0     1.0       8.0       41       30.74          4  \n",
       "1          4.0     1.0       8.0       74      108.30          4  \n",
       "2          4.0     1.0       8.0       84       69.00          4  \n",
       "3          3.0     1.0       5.0       68      143.11          4  \n",
       "4          3.0     1.0       5.0        6      117.89          4  "
      ]
     },
     "execution_count": 6,
     "metadata": {},
     "output_type": "execute_result"
    }
   ],
   "source": [
    "data.head()"
   ]
  },
  {
   "cell_type": "code",
   "execution_count": 7,
   "id": "a2f6a52a",
   "metadata": {},
   "outputs": [
    {
     "name": "stdout",
     "output_type": "stream",
     "text": [
      "             helpfulness    gender  category    review    rating\n",
      "helpfulness     1.000000  0.075947 -0.013408 -0.028259 -0.007523\n",
      "gender          0.075947  1.000000  0.022549 -0.037884 -0.034337\n",
      "category       -0.013408  0.022549  1.000000  0.001970 -0.163158\n",
      "review         -0.028259 -0.037884  0.001970  1.000000 -0.036118\n",
      "rating         -0.007523 -0.034337 -0.163158 -0.036118  1.000000\n"
     ]
    }
   ],
   "source": [
    "correlations = data[['helpfulness', 'gender', 'category', 'review', 'rating']].corr()\n",
    "print (correlations)\n"
   ]
  },
  {
   "cell_type": "code",
   "execution_count": 8,
   "id": "8dd95ff9",
   "metadata": {},
   "outputs": [
    {
     "name": "stdout",
     "output_type": "stream",
     "text": [
      "helpfulness   -0.007523\n",
      "gender        -0.034337\n",
      "category      -0.163158\n",
      "review        -0.036118\n",
      "rating         1.000000\n",
      "Name: rating, dtype: float64\n"
     ]
    }
   ],
   "source": [
    "print(correlations['rating'])\n"
   ]
  },
  {
   "cell_type": "markdown",
   "id": "8d60a1e2",
   "metadata": {},
   "source": [
    "# Analysis on the Correlations:\n",
    "* The two most correlated features with rating are:\n",
    "   1. __category__ with a correlation coefficient of -0.163158.\n",
    "   2. __gender__ with a correlation coefficient of -0.034337.\n",
    " The negative correlation coefficients indicate that as the values of these features increase, the rating tends to decrease.\n",
    "* The two least correlated features with rating are:\n",
    "   1. __helpfulness__ with a correlation coefficient of -0.007523.\n",
    "   2. __review__ with a correlation coefficient of -0.036118.\n",
    " These correlation coefficients are close to zero, indicating very weak correlations.\n",
    "  \n",
    "# Affect on the Final Prediction Results\n",
    "__category__ and __gender__ could potentially improve prediction results due to their moderate correlations with rating, __helpfulness__ and __review__ may not contribute much to prediction accuracy.\n",
    "\n",
    "The __negative correlations__ indicate that higher values of these features correspond to lower ratings. Therefore, the regression model is likely to assign lower ratings when an item belongs to certain categories or is rated by a specific gender.\n",
    "\n",
    "The __minimal correlation__ suggests that variations in the features __helpfulness__ and __reviews__  do not strongly influence the assigned rating. Thus, the regression model may assign ratings irrespective of the helpfulness of reviews or the content of the review."
   ]
  },
  {
   "cell_type": "markdown",
   "id": "4myP5igslA_Y",
   "metadata": {
    "id": "4myP5igslA_Y"
   },
   "source": [
    "### Split Training and Testing Data\n",
    "* Machine learning models are trained to help make predictions for the future. Normally, we need to randomly split the dataset into training and testing sets, where we use the training set to train the model, and then leverage the well-trained model to make predictions on the testing set.\n",
    "* To further investigate whether the size of the training/testing data affects the model performance, please random split the data into training and testing sets with different sizes:\n",
    "    * Case 1: training data containing 10% of the entire data;\n",
    "    * Case 2: training data containing 90% of the entire data.\n",
    "* Print the shape of training and testing sets in the two cases."
   ]
  },
  {
   "cell_type": "markdown",
   "id": "DjSsgT0BlA_Y",
   "metadata": {
    "id": "DjSsgT0BlA_Y"
   },
   "source": [
    "### Train Linear Regression Models with Feature Selection under Cases 1 & 2\n",
    "* When training a machine learning model for prediction, we may need to select the most important/correlated input features for more accurate results.\n",
    "* To investigate whether feature selection affects the model performance, please select two most correlated features and two least correlated features from helpfulness/gender/category/review regarding rating, respectively.\n",
    "* Train four linear regression models by following the conditions:\n",
    "    - (model-a) using the training/testing data in case 1 with two most correlated input features\n",
    "    - (model-b) using the training/testing data in case 1 with two least correlated input features\n",
    "    - (model-c) using the training/testing data in case 2 with two most correlated input features\n",
    "    - (model-d) using the training/testing data in case 2 with two least correlated input features\n",
    "* By doing this, we can verify the impacts of the size of traing/testing data on the model performance via comparing model-a and model-c (or model-b and model-d); meanwhile the impacts of feature selection can be validated via comparing model-a and model-b (or model-c and model-d).    "
   ]
  },
  {
   "cell_type": "markdown",
   "id": "KATSn7hYlA_Z",
   "metadata": {
    "id": "KATSn7hYlA_Z"
   },
   "source": [
    "### Evaluate Models\n",
    "* Evaluate the performance of the four models with two metrics, including MSE and Root MSE\n",
    "* Print the results of the four models regarding the two metrics"
   ]
  },
  {
   "cell_type": "markdown",
   "id": "77918ed3",
   "metadata": {},
   "source": [
    "# Case1 : Training data containing 10% of the entire data"
   ]
  },
  {
   "cell_type": "code",
   "execution_count": 30,
   "id": "JIDMig9blA_Y",
   "metadata": {
    "id": "JIDMig9blA_Y"
   },
   "outputs": [
    {
     "name": "stdout",
     "output_type": "stream",
     "text": [
      "(268, 11)\n",
      "(2417, 11)\n",
      "MSE _a: 1.7723033271831938\n",
      "Root mse_a:  1.3312788314936859\n"
     ]
    }
   ],
   "source": [
    "train, test = train_test_split(data, test_size=0.9, random_state=142)\n",
    "print(train.shape)\n",
    "print(test.shape)\n",
    "\n",
    "#Model A\n",
    "reg= linear_model.LinearRegression()\n",
    "X_train = train[[\"category\" , \"gender\"]]\n",
    "y_train = train[\"rating\"]\n",
    "\n",
    "X_test = test[[\"category\" , \"gender\"]]\n",
    "y_test = test[\"rating\"]\n",
    "\n",
    "reg.fit(X_train,y_train)\n",
    "\n",
    "predicted = reg.predict(X_test)\n",
    "mse_a = ((np.array(y_test)-predicted)**2).sum()/len(y_test)\n",
    "Rmse_a = np.sqrt(mse_a)\n",
    "print(\"MSE _a:\", mse_a) \n",
    "print(\"Root mse_a: \",Rmse_a )\n",
    "\n"
   ]
  },
  {
   "cell_type": "code",
   "execution_count": 31,
   "id": "c402a7fd",
   "metadata": {},
   "outputs": [
    {
     "name": "stdout",
     "output_type": "stream",
     "text": [
      "MSE_b: 1.83964890692985\n",
      "Root mse_b:  1.3563365758283783\n"
     ]
    }
   ],
   "source": [
    "#ModelB\n",
    "reg= linear_model.LinearRegression()\n",
    "X_train = train[[\"helpfulness\" , \"review\"]]\n",
    "y_train = train[\"rating\"]\n",
    "\n",
    "X_test = test[[\"helpfulness\" , \"review\"]]\n",
    "y_test = test[\"rating\"]\n",
    "\n",
    "reg.fit(X_train,y_train)\n",
    "\n",
    "predicted = reg.predict(X_test)\n",
    "mse_b = ((np.array(y_test)-predicted)**2).sum()/len(y_test)\n",
    "print(\"MSE_b:\", mse_b) \n",
    "Rmse_b = np.sqrt(mse_b)\n",
    "print(\"Root mse_b: \", Rmse_b)\n"
   ]
  },
  {
   "cell_type": "markdown",
   "id": "5335960a",
   "metadata": {},
   "source": [
    "# Case 2: Training data containing 90% of the entire data."
   ]
  },
  {
   "cell_type": "code",
   "execution_count": 32,
   "id": "b7330213",
   "metadata": {},
   "outputs": [
    {
     "name": "stdout",
     "output_type": "stream",
     "text": [
      "(2416, 11)\n",
      "(269, 11)\n",
      "MSE_c: 1.779660383099854\n",
      "Root mse_b:  1.334039123526688\n"
     ]
    }
   ],
   "source": [
    "train, test = train_test_split(data, test_size=0.10, random_state=142)\n",
    "print(train.shape)\n",
    "print(test.shape)\n",
    "\n",
    "#Model C\n",
    "reg= linear_model.LinearRegression()\n",
    "X_train = train[[\"category\" , \"gender\"]]\n",
    "y_train = train[\"rating\"]\n",
    "\n",
    "X_test = test[[\"category\" , \"gender\"]]\n",
    "y_test = test[\"rating\"]\n",
    "\n",
    "reg.fit(X_train,y_train)\n",
    "\n",
    "predicted = reg.predict(X_test)\n",
    "mse_c = ((np.array(y_test)-predicted)**2).sum()/len(y_test)\n",
    "print(\"MSE_c:\", mse_c) \n",
    "Rmse_c = np.sqrt(mse_c)\n",
    "print(\"Root mse_b: \", Rmse_c)\n"
   ]
  },
  {
   "cell_type": "code",
   "execution_count": 33,
   "id": "f5450a8e",
   "metadata": {},
   "outputs": [
    {
     "name": "stdout",
     "output_type": "stream",
     "text": [
      "MSE_d: 1.7890363900010227\n",
      "Root mse_b:  1.3375486495828937\n"
     ]
    }
   ],
   "source": [
    "#Model D\n",
    "reg= linear_model.LinearRegression()\n",
    "X_train = train[[\"helpfulness\" , \"review\"]]\n",
    "y_train = train[\"rating\"]\n",
    "\n",
    "X_test = test[[\"helpfulness\" , \"review\"]]\n",
    "y_test = test[\"rating\"]\n",
    "\n",
    "reg.fit(X_train,y_train)\n",
    "\n",
    "predicted = reg.predict(X_test)\n",
    "mse_d = ((np.array(y_test)-predicted)**2).sum()/len(y_test)\n",
    "print(\"MSE_d:\", mse_d)\n",
    "Rmse_d = np.sqrt(mse_d)\n",
    "print(\"Root mse_b: \", Rmse_d)\n"
   ]
  },
  {
   "cell_type": "markdown",
   "id": "Y9jx-eY6lA_a",
   "metadata": {
    "id": "Y9jx-eY6lA_a"
   },
   "source": [
    "### Visualize, Compare and Analyze the Results\n",
    "* Visulize the results, and perform ___insightful analysis___ on the obtained results. For better visualization, you may need to carefully set the scale for the y-axis.\n",
    "* Normally, the model trained with most correlated features and more training data will get better results. Do you obtain the similar observations? If not, please ___explain the possible reasons___."
   ]
  },
  {
   "cell_type": "code",
   "execution_count": 29,
   "id": "3TNAIGDilA_a",
   "metadata": {
    "id": "3TNAIGDilA_a"
   },
   "outputs": [
    {
     "data": {
      "image/png": "[encoded data removed]",
      "text/plain": [
       "<Figure size 1000x600 with 1 Axes>"
      ]
     },
     "metadata": {},
     "output_type": "display_data"
    }
   ],
   "source": [
    "# Mean Squared Error values for each model\n",
    "mse_values = [mse_a, mse_b, mse_c, mse_d]\n",
    "\n",
    "# Model labels\n",
    "model_labels = ['Model A (Most Correlated - Case 1)', 'Model B (Least Correlated - Case 1)', \n",
    "                'Model C (Most Correlated - Case 2)', 'Model D (Least Correlated - Case 2)']\n",
    "\n",
    "# Plotting\n",
    "plt.figure(figsize=(10, 6))\n",
    "plt.bar(model_labels, mse_values, color=['blue', 'orange', 'green', 'red'])\n",
    "plt.xlabel('Models')\n",
    "plt.ylabel('Mean Squared Error (MSE)')\n",
    "plt.title('Comparison of Linear Regression Models using MSE')\n",
    "plt.xticks(rotation=45, ha='right')\n",
    "plt.ylim(0, max(mse_values) * 1.1)  # Set y-axis scale for better visualization\n",
    "plt.grid(axis='y')\n",
    "plt.tight_layout()\n",
    "plt.show()\n"
   ]
  },
  {
   "cell_type": "code",
   "execution_count": 34,
   "id": "f166a65b",
   "metadata": {},
   "outputs": [
    {
     "data": {
      "image/png": "[encoded data removed]",
      "text/plain": [
       "<Figure size 1000x600 with 1 Axes>"
      ]
     },
     "metadata": {},
     "output_type": "display_data"
    }
   ],
   "source": [
    "# Root Mean Squared Error values for each model\n",
    "Rmse_values = [Rmse_a, Rmse_b, Rmse_c, Rmse_d]\n",
    "\n",
    "# Model labels\n",
    "model_labels = ['Model A (Most Correlated - Case 1)', 'Model B (Least Correlated - Case 1)', \n",
    "                'Model C (Most Correlated - Case 2)', 'Model D (Least Correlated - Case 2)']\n",
    "\n",
    "# Plotting\n",
    "plt.figure(figsize=(10, 6))\n",
    "plt.bar(model_labels, Rmse_values, color=['blue', 'orange', 'green', 'red'])\n",
    "plt.xlabel('Models')\n",
    "plt.ylabel('Root Mean Squared Error (RMSE)')\n",
    "plt.title('Comparison of Linear Regression Models using RMSE')\n",
    "plt.xticks(rotation=45, ha='right')\n",
    "plt.ylim(0, max(mse_values) * 1.1)  # Set y-axis scale for better visualization\n",
    "plt.grid(axis='y')\n",
    "plt.tight_layout()\n",
    "plt.show()"
   ]
  },
  {
   "cell_type": "markdown",
   "id": "af10af9d",
   "metadata": {},
   "source": [
    "# Model Performance:\n",
    "__Model A__ (trained with the most correlated features in Case 1) has the __lowest MSE__, indicating better performance compared to other models.\n",
    "__Model D__ (trained with the least correlated features in Case 2) has the __highest MSE__, suggesting poorer performance.\n",
    "\n",
    "The __RMSE values__ closely follow the MSE trend, with __Model A__ having the __lowest RMSE__ and __Model D__ having the __highest RMSE__.\n",
    "\n",
    "# Influence of Features and Training Data:\n",
    "Models trained with the most correlated features and more training data will perform better, Model A outperforms Model C, which is trained with the same features but more training data.\n",
    "\n",
    "This suggests that the quality and relevance of features might have a more significant impact on model performance than the quantity of training data.\n",
    "\n",
    "# Possible Reasons:\n",
    "The inclusion of irrelevant or weakly correlated features in Model C might dilute the model's ability to learn meaningful patterns from the data, leading to inferior performance despite having more training data.\n",
    "\n",
    "Additionally, the 10% training data used in Case 1 might have been sufficient for Model A to capture the underlying relationships between features and ratings effectively.\n",
    "\n",
    "\n"
   ]
  },
  {
   "cell_type": "markdown",
   "id": "f9ee01ac",
   "metadata": {
    "id": "f9ee01ac"
   },
   "source": [
    "### Data Science Ethics\n",
    "*Please read the following examples [Click here to read the example_1.](https://www.vox.com/covid-19-coronavirus-us-response-trump/2020/5/18/21262265/georgia-covid-19-cases-declining-reopening) [Click here to read the example_2.](https://viborc.com/ethics-and-ethical-data-visualization-a-complete-guide/)\n",
    "\n",
    "*Then view the picture ![My Image](figure_portfolio2.png \"This is my image\")\n",
    "Please compose an analysis of 100-200 words that evaluates potential ethical concerns associated with the infographic, detailing the reasons behind these issues.\n"
   ]
  },
  {
   "cell_type": "markdown",
   "id": "cadb86b4",
   "metadata": {
    "id": "44f30e9b"
   },
   "source": [
    "The 2008 Summer Olympics medal__ tallies are displayed in the tables, which are arranged by total medals and gold medals earned by each nation. The data is factual in and of itself, but the way it is presented raises ethical questions.\n",
    "\n",
    "__Bias towards Medals:__ When countries are ranked according to their total medal count, those with larger delegations or more events may be given more weight than others. This can eclipse the accomplishments of nations that have won more gold medals overall but fewer overall medals.\n",
    "\n",
    "__Nationalistic Bias__: Placing nations, like China or the United States, at the top of the list may unintentionally foster nationalistic sentiments. This could weaken the spirit of international collaboration and sportsmanship by fostering prejudices and rivalries between countries.\n",
    "\n",
    "__Underrepresentation of Other Achievements__: Individual performances or historical significance may be overlooked if one is just concerned with gold medals or total medal tallies. An incomplete view of the Olympic Games and its participants may result from this restricted emphasis.\n",
    "\n",
    "In conclusion, infographics are helpful tools for informational purposes, but it's crucial to display data in a way that promotes diversity, justice, and appreciation for the variety of accomplishments within the Olympic movement—all while avoiding bias.\n"
   ]
  }
 ],
 "metadata": {
  "colab": {
   "provenance": []
  },
  "kernelspec": {
   "display_name": "Python 3 (ipykernel)",
   "language": "python",
   "name": "python3"
  },
  "language_info": {
   "codemirror_mode": {
    "name": "ipython",
    "version": 3
   },
   "file_extension": ".py",
   "mimetype": "text/x-python",
   "name": "python",
   "nbconvert_exporter": "python",
   "pygments_lexer": "ipython3",
   "version": "3.11.5"
  }
 },
 "nbformat": 4,
 "nbformat_minor": 5
}
